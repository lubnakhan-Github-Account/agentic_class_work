{
  "nbformat": 4,
  "nbformat_minor": 0,
  "metadata": {
    "colab": {
      "provenance": [],
      "authorship_tag": "ABX9TyNic1e4GqEYX1UzuMNasicp",
      "include_colab_link": true
    },
    "kernelspec": {
      "name": "python3",
      "display_name": "Python 3"
    },
    "language_info": {
      "name": "python"
    }
  },
  "cells": [
    {
      "cell_type": "markdown",
      "metadata": {
        "id": "view-in-github",
        "colab_type": "text"
      },
      "source": [
        "<a href=\"https://colab.research.google.com/github/lubnakhan-Github-Account/agentic_class_work/blob/main/session_memory.ipynb\" target=\"_parent\"><img src=\"https://colab.research.google.com/assets/colab-badge.svg\" alt=\"Open In Colab\"/></a>"
      ]
    },
    {
      "cell_type": "markdown",
      "source": [
        "# ***Sesssion Memory***\n",
        "___"
      ],
      "metadata": {
        "id": "WX58xnYmOsuk"
      }
    },
    {
      "cell_type": "code",
      "source": [
        "!pip install -qU openai-agents\n",
        "\n",
        "import os\n",
        "from google.colab import userdata\n",
        "\n",
        "import nest_asyncio\n",
        "nest_asyncio.apply()\n",
        "\n",
        "api_key= userdata.get(\"OPENAI_API_KEY\")\n",
        "os.environ[\"OPENAI_API_KEY\"]=api_key\n",
        "\n",
        "import asyncio\n",
        "import rich\n",
        "from agents import Agent,Runner,SQLiteSession\n",
        "# -----------------------------------------\n",
        "session_memory= SQLiteSession(session_id=\"conversation_987\",db_path=\"test.db\")\n",
        "\n",
        "agent= Agent(\n",
        "    name=\"triage_agent\",\n",
        "    instructions=\"You are a helpfull assistent.\",\n",
        "    model=\"gpt-4.1-mini\",\n",
        "\n",
        ")\n",
        "result1= Runner.run_sync(agent,\"hi i am John.\",session=session_memory)\n",
        "rich.print(result1.final_output)\n",
        "\n",
        "result2= Runner.run_sync(agent,\"Do you know me?\",session=session_memory)\n",
        "rich.print(result2.final_output)"
      ],
      "metadata": {
        "colab": {
          "base_uri": "https://localhost:8080/",
          "height": 68
        },
        "id": "P24bj4bPO-qX",
        "outputId": "ee768f9c-5f9f-48f2-effe-0178cf2b6d6a"
      },
      "execution_count": 6,
      "outputs": [
        {
          "output_type": "display_data",
          "data": {
            "text/plain": [
              "Hello John! How can I assist you today?\n"
            ],
            "text/html": [
              "<pre style=\"white-space:pre;overflow-x:auto;line-height:normal;font-family:Menlo,'DejaVu Sans Mono',consolas,'Courier New',monospace\">Hello John! How can I assist you today?\n",
              "</pre>\n"
            ]
          },
          "metadata": {}
        },
        {
          "output_type": "display_data",
          "data": {
            "text/plain": [
              "Hi John! I don’t have personal memories, so I don’t know you beyond what you share with me during our conversation.\n",
              "How can I help you today?\n"
            ],
            "text/html": [
              "<pre style=\"white-space:pre;overflow-x:auto;line-height:normal;font-family:Menlo,'DejaVu Sans Mono',consolas,'Courier New',monospace\">Hi John! I don’t have personal memories, so I don’t know you beyond what you share with me during our conversation.\n",
              "How can I help you today?\n",
              "</pre>\n"
            ]
          },
          "metadata": {}
        }
      ]
    }
  ]
}