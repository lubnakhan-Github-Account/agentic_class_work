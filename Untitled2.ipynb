{
  "nbformat": 4,
  "nbformat_minor": 0,
  "metadata": {
    "colab": {
      "provenance": [],
      "authorship_tag": "ABX9TyNJHTLiS2+ob+2//0FoSU2I",
      "include_colab_link": true
    },
    "kernelspec": {
      "name": "python3",
      "display_name": "Python 3"
    },
    "language_info": {
      "name": "python"
    }
  },
  "cells": [
    {
      "cell_type": "markdown",
      "metadata": {
        "id": "view-in-github",
        "colab_type": "text"
      },
      "source": [
        "<a href=\"https://colab.research.google.com/github/lubnakhan-Github-Account/agentic_class_work/blob/main/Untitled2.ipynb\" target=\"_parent\"><img src=\"https://colab.research.google.com/assets/colab-badge.svg\" alt=\"Open In Colab\"/></a>"
      ]
    },
    {
      "cell_type": "markdown",
      "source": [
        "# ***Custom Runner***"
      ],
      "metadata": {
        "id": "TxOoi0L8JCXd"
      }
    },
    {
      "cell_type": "code",
      "source": [
        "!pip install -qU openai-agents\n",
        "\n",
        "import os\n",
        "from google.colab import userdata\n",
        "\n",
        "import nest_asyncio\n",
        "nest_asyncio.apply()\n",
        "\n",
        "api_key= userdata.get(\"OPENAI_API_KEY\")\n",
        "os.environ[\"OPENAI_API_KEY\"]=api_key\n",
        "\n",
        "import asyncio\n",
        "import rich\n",
        "from agents import Agent,Runner,TResponseInputItem\n",
        "from agents.run import AgentRunner,set_default_agent_runner\n",
        "# ----------------------------------------\n",
        "# create custom class for Runner\n",
        "class CustomRunClass(AgentRunner):\n",
        "    async def run(self, starting_agent:Agent, input:str|list[TResponseInputItem],**kwargs):\n",
        "       res= await super().run(starting_agent, input,**kwargs)\n",
        "       res.final_output =\"Your name is John.\"\n",
        "       res._last_agent.name =\"John.\"\n",
        "       return res\n",
        "set_default_agent_runner(CustomRunClass())\n",
        "# ----------------------------------------------------------------------------\n",
        "agent= Agent(\n",
        "    name=\"triage_agent\",\n",
        "    instructions=\"You are ahelpfull assistent.\",\n",
        "    model=\"gpt-4.1-mini\"\n",
        ")\n",
        "async def main():\n",
        "     result= await Runner.run(agent, \"hi\")\n",
        "     print(result)\n",
        "asyncio.run(main())\n",
        "\n"
      ],
      "metadata": {
        "id": "vRwuARsJJSP1"
      },
      "execution_count": null,
      "outputs": []
    }
  ]
}