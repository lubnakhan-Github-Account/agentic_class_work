{
  "nbformat": 4,
  "nbformat_minor": 0,
  "metadata": {
    "colab": {
      "provenance": [],
      "authorship_tag": "ABX9TyNE6l318nqG/RfSihnFb/e/",
      "include_colab_link": true
    },
    "kernelspec": {
      "name": "python3",
      "display_name": "Python 3"
    },
    "language_info": {
      "name": "python"
    }
  },
  "cells": [
    {
      "cell_type": "markdown",
      "metadata": {
        "id": "view-in-github",
        "colab_type": "text"
      },
      "source": [
        "<a href=\"https://colab.research.google.com/github/lubnakhan-Github-Account/agentic_class_work/blob/main/Hooks.ipynb\" target=\"_parent\"><img src=\"https://colab.research.google.com/assets/colab-badge.svg\" alt=\"Open In Colab\"/></a>"
      ]
    },
    {
      "cell_type": "markdown",
      "source": [
        "***RunHooks And AgentHooks***"
      ],
      "metadata": {
        "id": "r1NdZLKfaAvv"
      }
    },
    {
      "cell_type": "code",
      "source": [
        "!pip install -qU openai-agents\n",
        "\n",
        "import os\n",
        "from google.colab import userdata\n",
        "\n",
        "import nest_asyncio\n",
        "nest_asyncio.apply()\n",
        "\n",
        "api_key=userdata.get(\"OPENAI_API_KEY\")\n",
        "os.environ[\"OPENAI_API_KEY\"] = api_key\n",
        "\n",
        "from agents import Agent, RunHooks, Runner,AgentHooks,RunContextWrapper,function_tool,enable_verbose_stdout_logging\n",
        "from dotenv import load_dotenv\n",
        "from typing import Any\n",
        "\n",
        "# -------------------------------Run Hook--------------------\n",
        "class  Run_Hook(RunHooks):\n",
        "\n",
        "  async def on_agent_start(self, context:RunContextWrapper, agent:Agent,)->None:\n",
        "      \"\"\"this hook run before agent\"\"\"\n",
        "      print(\"⚓🔧 1: agent_start  event start before the the agent start.\")\n",
        "\n",
        "  async def on_agent_end(self, context:RunContextWrapper, agent:Agent, output:Any)->None:\n",
        "      print(\" ⚓🔧 2:agent_end event start after the   final output.\")\n",
        "\n",
        "  async def on_handoff(self, context:RunContextWrapper, from_agent:Agent, to_agent:Agent)-> None:\n",
        "    #  return await super().on_handoff(context, from_agent, to_agent)\n",
        "       print(\"⚓🔧 3: agent start again before handoff.\")\n",
        "\n",
        "  async def on_tool_start(self,context:RunContextWrapper, agent:Agent,tool)->None:\n",
        "       print(\" ⚓🔧 4: tool_start event start before the tool start. \")\n",
        "\n",
        "  async def on_tool_end(self, context:RunContextWrapper, agent:Agent,tool, result:str)->None:\n",
        "      print(\"⚓🔧 5: tool_end event start after the tool  end.\")\n",
        "\n",
        "my_run_hook= Run_Hook()\n",
        "# ------------Agent Hook ----------------------\n",
        "class AgentHookClass(AgentHooks):\n",
        "\n",
        "    async def on_start(self, context:RunContextWrapper, agent:Agent)->None:\n",
        "        print(\"🤖  1:on start event start before agent invoke.\")\n",
        "\n",
        "    async def on_end(self, context:RunContextWrapper, agent:Agent, output:Any)->None:\n",
        "        print(\"🤖 2:on end event start after agent end.\")\n",
        "\n",
        "    async def on_handoff(self, context, agent, source):\n",
        "        print(\"🤖 3:on handoff event start before handoff invoke.\")\n",
        "\n",
        "    async def on_tool_start(self, context:RunContextWrapper, agent:Agent, tool)->None:\n",
        "          print(\"🤖 4:on tool start event start before tool invoke\")\n",
        "    async def on_tool_end(self, context, agent, tool, result):\n",
        "        print(\"🤖 5:on tool end event start after tool end.\")\n",
        "\n",
        "#--------------------------------------------------------------------------\n",
        "# ------------Agent Hook ----------------------\n",
        "class SecAgentHookClass(AgentHooks):\n",
        "\n",
        "    async def on_start(self, context:RunContextWrapper, agent:Agent)->None:\n",
        "        print(\"✅  1:on start event start before agent invoke.\")\n",
        "\n",
        "    async def on_end(self, context:RunContextWrapper, agent:Agent, output:Any)->None:\n",
        "        print(\"✅ 2:on end event start after agent end.\")\n",
        "\n",
        "    async def on_handoff(self, context, agent, source):\n",
        "        print(\"✅ 3:on handoff event start before handoff invoke.\")\n",
        "\n",
        "    async def on_tool_start(self, context:RunContextWrapper, agent:Agent, tool)->None:\n",
        "          print(\"✅ 4:on tool start event start before tool invoke\")\n",
        "    async def on_tool_end(self, context, agent, tool, result):\n",
        "        print(\"✅ 5:on tool end event start after tool end.\")\n",
        "\n",
        "#--------------------------------------------------------------------------\n",
        "@function_tool\n",
        "def weather_tool():\n",
        "    return f\"weather is mostly 🌩 cloudy.\"\n",
        "# -----------------------------------------------------------------------\n",
        "my_handoff_agent=Agent(\n",
        "    name=\"my_handoff_agent\",\n",
        "    instructions=\"You are a helpful assistent.\",\n",
        "    model=\"gpt-4.1-mini\",\n",
        "    hooks=SecAgentHookClass(),\n",
        ")\n",
        "# ----------------------------------------------------------------\n",
        "agent= Agent(\n",
        "    name=\"triage_agent\",\n",
        "    instructions=\"You are a helpful assistent.\",\n",
        "    model=\"gpt-4.1-mini\",\n",
        "    hooks=AgentHookClass(),\n",
        "    handoffs=[my_handoff_agent],\n",
        "    tools=[weather_tool]\n",
        "\n",
        ")\n",
        "\n",
        "result= Runner.run_sync(agent,\"call  my_handoff_agent, call weather_tool, \",hooks=my_run_hook)\n",
        "print(result.final_output)"
      ],
      "metadata": {
        "colab": {
          "base_uri": "https://localhost:8080/"
        },
        "id": "72DJjD51aOlf",
        "outputId": "a30194b6-1691-40c7-8c02-22fc51fb5411"
      },
      "execution_count": 2,
      "outputs": [
        {
          "output_type": "stream",
          "name": "stdout",
          "text": [
            "⚓🔧 1: agent_start  event start before the the agent start.\n",
            "🤖  1:on start event start before agent invoke.\n",
            " ⚓🔧 4: tool_start event start before the tool start. \n",
            "🤖 4:on tool start event start before tool invoke\n",
            "⚓🔧 5: tool_end event start after the tool  end.\n",
            "🤖 5:on tool end event start after tool end.\n",
            "⚓🔧 3: agent start again before handoff.\n",
            "🤖 3:on handoff event start before handoff invoke.\n",
            "⚓🔧 1: agent_start  event start before the the agent start.\n",
            "✅  1:on start event start before agent invoke.\n",
            " ⚓🔧 2:agent_end event start after the   final output.\n",
            "✅ 2:on end event start after agent end.\n",
            "I've checked the weather for you—it's mostly cloudy with some thunderstorms. Also, I am calling your handoff agent now. How can I assist you further?\n"
          ]
        }
      ]
    }
  ]
}