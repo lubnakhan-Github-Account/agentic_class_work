{
  "nbformat": 4,
  "nbformat_minor": 0,
  "metadata": {
    "colab": {
      "provenance": [],
      "authorship_tag": "ABX9TyNC/SVWeBToTI2drP/4brWg",
      "include_colab_link": true
    },
    "kernelspec": {
      "name": "python3",
      "display_name": "Python 3"
    },
    "language_info": {
      "name": "python"
    }
  },
  "cells": [
    {
      "cell_type": "markdown",
      "metadata": {
        "id": "view-in-github",
        "colab_type": "text"
      },
      "source": [
        "<a href=\"https://colab.research.google.com/github/lubnakhan-Github-Account/agentic_class_work/blob/main/Trace.ipynb\" target=\"_parent\"><img src=\"https://colab.research.google.com/assets/colab-badge.svg\" alt=\"Open In Colab\"/></a>"
      ]
    },
    {
      "cell_type": "markdown",
      "source": [
        "# ***Tracing***\n"
      ],
      "metadata": {
        "id": "cMu098NOl3FR"
      }
    },
    {
      "cell_type": "code",
      "source": [
        "!pip install -Uq openai-agents\n",
        "\n",
        "import os\n",
        "from google.colab import userdata\n",
        "\n",
        "import nest_asyncio\n",
        "nest_asyncio.apply()\n",
        "\n",
        "api_key= userdata.get(\"OPENAI_API_KEY\")\n",
        "os.environ[\"OPENAI_API_KEY\"]=api_key\n",
        "\n",
        "import asyncio\n",
        "from agents import Agent,Runner,trace\n",
        "\n",
        "agent = Agent(\n",
        "    name=\"triage agent\",\n",
        "    instructions=\"You are a helpfull assistent.\",\n",
        "    model=\"gpt-4.1-mini\"\n",
        ")\n",
        "async def main():\n",
        "\n",
        "  with trace(\"Example Trace\"):\n",
        "    result=await Runner.run(agent,\"who are you?\")\n",
        "    print(result.final_output)\n",
        "asyncio.run(main())"
      ],
      "metadata": {
        "colab": {
          "base_uri": "https://localhost:8080/"
        },
        "id": "H8GWqsRXmD_C",
        "outputId": "fc864ee9-7d25-43d5-b6a8-438a398c5ae0"
      },
      "execution_count": 6,
      "outputs": [
        {
          "output_type": "stream",
          "name": "stdout",
          "text": [
            "I am an AI language model created to assist you with information, answer questions, and help with a variety of tasks. How can I assist you today?\n"
          ]
        }
      ]
    }
  ]
}