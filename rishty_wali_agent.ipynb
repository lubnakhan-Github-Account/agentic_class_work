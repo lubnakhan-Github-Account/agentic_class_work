{
  "nbformat": 4,
  "nbformat_minor": 0,
  "metadata": {
    "colab": {
      "provenance": [],
      "toc_visible": true,
      "authorship_tag": "ABX9TyM+3FRjRjXSGUiCsCx3vysp",
      "include_colab_link": true
    },
    "kernelspec": {
      "name": "python3",
      "display_name": "Python 3"
    },
    "language_info": {
      "name": "python"
    }
  },
  "cells": [
    {
      "cell_type": "markdown",
      "metadata": {
        "id": "view-in-github",
        "colab_type": "text"
      },
      "source": [
        "<a href=\"https://colab.research.google.com/github/lubnakhan-Github-Account/agentic_class_work/blob/main/rishty_wali_agent.ipynb\" target=\"_parent\"><img src=\"https://colab.research.google.com/assets/colab-badge.svg\" alt=\"Open In Colab\"/></a>"
      ]
    },
    {
      "cell_type": "markdown",
      "source": [
        "# ***class work***\n",
        " *  *Rishty wali agent*\n",
        "\n"
      ],
      "metadata": {
        "id": "GvHYaFUJoxyw"
      }
    },
    {
      "cell_type": "code",
      "source": [
        "!pip install -qU openai-agents"
      ],
      "metadata": {
        "id": "v8Gpg4mrNNNF"
      },
      "execution_count": 15,
      "outputs": []
    },
    {
      "cell_type": "code",
      "source": [
        "import nest_asyncio\n",
        "nest_asyncio.apply()"
      ],
      "metadata": {
        "id": "i3tKbjTPNhiF"
      },
      "execution_count": 16,
      "outputs": []
    },
    {
      "cell_type": "code",
      "source": [
        "import os\n",
        "from google.colab import userdata"
      ],
      "metadata": {
        "id": "62OsncT3N20B"
      },
      "execution_count": 17,
      "outputs": []
    },
    {
      "cell_type": "code",
      "source": [
        "API_KEY = userdata.get(\"OPENAI_API_KEY\")\n",
        "os.environ[\"OPENAI_API_KEY\"] = API_KEY"
      ],
      "metadata": {
        "id": "MwwlhklDOLGl"
      },
      "execution_count": 19,
      "outputs": []
    },
    {
      "cell_type": "code",
      "source": [
        "import asyncio\n",
        "from agents import Agent,Runner,function_tool,function_tool,WebSearchTool\n",
        "\n",
        "@function_tool\n",
        "def get_userdata(name:str, age:int)-> list[dict]:\n",
        "  \"\"\"Retrive user data based on age\"\"\"\n",
        "  users= [\n",
        "      {\"name\":\"Muneeb\", \"age\":22},\n",
        "      {\"name\":\"Muhammad Ubaid Hussain\", \"age\":25},\n",
        "      {\"name\":\"Azan\", \"age\":20},\n",
        "  ]\n",
        "\n",
        "  for user in users:\n",
        "    if user['age'] > 25:\n",
        "      users.remove[user]\n",
        "\n",
        "  return users\n",
        "\n",
        "\n",
        "rishty_wali_agent= Agent(\n",
        "    name=\"auntie\",\n",
        "    instructions=\"you are a rishty wali auntie,who find matches. use  given WebSearchTool. \",\n",
        "    model=\"gpt-4.1-mini\",\n",
        "    tools=[get_userdata,WebSearchTool()]\n",
        ")\n",
        "\n",
        "result= Runner.run_sync(\n",
        "    starting_agent= rishty_wali_agent,\n",
        "    input=\"find a match of 25 minimum age,name Muhammad Ubaid Hussain and tell me the details about the match from linkedin\")\n",
        "\n",
        "print(result.final_output)"
      ],
      "metadata": {
        "colab": {
          "base_uri": "https://localhost:8080/"
        },
        "id": "WpKl1bjQO5v4",
        "outputId": "a3646d03-dec1-49e5-e302-0d4958825f20"
      },
      "execution_count": 30,
      "outputs": [
        {
          "output_type": "stream",
          "name": "stdout",
          "text": [
            "I have found several professionals named Muhammad Ubaid Hussain on LinkedIn. Here are some profiles that match your criteria:\n",
            "\n",
            "1. **Muhammad Ubaid Hussain**: A passionate frontend developer from Pakistan, currently working remotely. He specializes in React and Next.js and is currently learning Next.js and Cloud Computing. ([github.com](https://github.com/Ubaid2116?utm_source=openai))\n",
            "\n",
            "2. **Muhammad Ubaid**: A Cyber Security Analyst at Simplilearn. He has experience in various roles and companies, including a position as a Quality Controller at Kings Apparel Industries PVT LTD and a Graphic Designer at Guru.com. ([theorg.com](https://theorg.com/org/simplilearn/org-chart/muhammad-ubaid?utm_source=openai))\n",
            "\n",
            "3. **Muhammad Ubaid**: A Product Improvement Analyst at CureMD. He has been working in this role since October 2022 and previously served as a Customer Service Specialist at Mindbridge. ([signalhire.com](https://www.signalhire.com/profiles/muhammad-ubaid/219773306?utm_source=openai))\n",
            "\n",
            "4. **Muhammad Ubaid**: An Assistant Professor of Medicine at Dow University of Health Sciences in Karachi. He has a focus on Diabetes Mellitus, Gastroenterology, and Point of Care Ultrasound. ([scholar.google.com](https://scholar.google.com/citations?user=HNDQhNsAAAAJ&utm_source=openai))\n",
            "\n",
            "Please note that while these profiles match the name and age criteria, they may not all be based in the United States. If you have a specific location preference or require more detailed information about any of these individuals, please let me know. \n"
          ]
        }
      ]
    }
  ]
}