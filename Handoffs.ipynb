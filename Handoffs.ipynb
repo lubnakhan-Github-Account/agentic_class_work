{
  "nbformat": 4,
  "nbformat_minor": 0,
  "metadata": {
    "colab": {
      "provenance": [],
      "authorship_tag": "ABX9TyMoGSww/1oFSuUX/T8v5Hmh",
      "include_colab_link": true
    },
    "kernelspec": {
      "name": "python3",
      "display_name": "Python 3"
    },
    "language_info": {
      "name": "python"
    }
  },
  "cells": [
    {
      "cell_type": "markdown",
      "metadata": {
        "id": "view-in-github",
        "colab_type": "text"
      },
      "source": [
        "<a href=\"https://colab.research.google.com/github/lubnakhan-Github-Account/agentic_class_work/blob/main/Handoffs.ipynb\" target=\"_parent\"><img src=\"https://colab.research.google.com/assets/colab-badge.svg\" alt=\"Open In Colab\"/></a>"
      ]
    },
    {
      "cell_type": "markdown",
      "source": [
        "# *Handoffs*\n"
      ],
      "metadata": {
        "id": "u7SLrAfCeMt7"
      }
    },
    {
      "cell_type": "code",
      "source": [
        "!pip install -qU openai-agents"
      ],
      "metadata": {
        "id": "Wm-bffoleXWB"
      },
      "execution_count": null,
      "outputs": []
    },
    {
      "cell_type": "code",
      "source": [
        "import os\n",
        "from google.colab import userdata\n"
      ],
      "metadata": {
        "id": "H0o0zUd_e6ys"
      },
      "execution_count": null,
      "outputs": []
    },
    {
      "cell_type": "code",
      "source": [
        "import nest_asyncio\n",
        "nest_asyncio.apply()"
      ],
      "metadata": {
        "id": "KldNL4bihO-v"
      },
      "execution_count": null,
      "outputs": []
    },
    {
      "cell_type": "code",
      "source": [
        "api_key= userdata.get(\"OPENAI_API_KEY\")\n",
        "os.environ[\"OPENAI_API_KEY\"] =api_key"
      ],
      "metadata": {
        "id": "yd-utztAhwpl"
      },
      "execution_count": null,
      "outputs": []
    },
    {
      "cell_type": "code",
      "source": [
        "import asyncio\n",
        "from agents import Agent,Runner\n",
        "\n",
        "urdu_translator= Agent(\n",
        "    name=\"urdu_translator\",\n",
        "    instructions=\"you are a urdu translator.\"\n",
        ")\n",
        "\n",
        "arabic_translator= Agent(\n",
        "    name=\"arabic_translato\",\n",
        "    instructions=\"you are a arabic translator.\"\n",
        ")\n",
        "\n",
        "\n",
        "chiness_translator= Agent(\n",
        "    name=\"chiness_translator\",\n",
        "    instructions=\"you are a chiness translator.\"\n",
        ")\n",
        "\n",
        "main_agent= Agent(\n",
        "    name=\"main_agent\",\n",
        "    instructions=\"if user ask about translation,you handoffs to approprieate agent and if you dont find,you not give answer to user.\",\n",
        "    model=\"gpt-4.1-mini\",\n",
        "    handoffs=[urdu_translator, arabic_translator,chiness_translator ]\n",
        ")\n",
        "async  def main():\n",
        "  result=  await Runner.run(starting_agent=main_agent, input=\"ap kese ho,translate into arabic.\")\n",
        "  print(result.final_output)\n",
        "\n",
        "asyncio.run(main())\n",
        "\n",
        "\n"
      ],
      "metadata": {
        "id": "fjP4lQYpipTp",
        "colab": {
          "base_uri": "https://localhost:8080/"
        },
        "outputId": "17b52f4e-b9af-4f64-b70b-441a9e778959"
      },
      "execution_count": 12,
      "outputs": [
        {
          "output_type": "stream",
          "name": "stdout",
          "text": [
            "كيف حالك؟\n"
          ]
        }
      ]
    }
  ]
}