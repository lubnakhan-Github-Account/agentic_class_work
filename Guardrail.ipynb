{
  "nbformat": 4,
  "nbformat_minor": 0,
  "metadata": {
    "colab": {
      "provenance": [],
      "authorship_tag": "ABX9TyOxv0jIvcBquIZUJnMrkMQK",
      "include_colab_link": true
    },
    "kernelspec": {
      "name": "python3",
      "display_name": "Python 3"
    },
    "language_info": {
      "name": "python"
    }
  },
  "cells": [
    {
      "cell_type": "markdown",
      "metadata": {
        "id": "view-in-github",
        "colab_type": "text"
      },
      "source": [
        "<a href=\"https://colab.research.google.com/github/lubnakhan-Github-Account/agentic_class_work/blob/main/Guardrail.ipynb\" target=\"_parent\"><img src=\"https://colab.research.google.com/assets/colab-badge.svg\" alt=\"Open In Colab\"/></a>"
      ]
    },
    {
      "cell_type": "markdown",
      "source": [
        "***Input Output Guardrail***"
      ],
      "metadata": {
        "id": "FEtHTjV4xe6y"
      }
    },
    {
      "cell_type": "code",
      "source": [
        "!pip install -qU openai-agents"
      ],
      "metadata": {
        "id": "8ey2SYPBxqdd"
      },
      "execution_count": null,
      "outputs": []
    },
    {
      "cell_type": "code",
      "source": [
        "import os\n",
        "from google.colab import userdata\n",
        "\n",
        "import nest_asyncio\n",
        "nest_asyncio.apply()\n",
        "\n"
      ],
      "metadata": {
        "id": "X2FFzyVox_Lt"
      },
      "execution_count": 3,
      "outputs": []
    },
    {
      "cell_type": "code",
      "source": [
        "api_key=userdata.get(\"OPENAI_API_KEY\")\n",
        "os.environ[\"OPENAI_API_KEY\"] = api_key\n",
        "\n"
      ],
      "metadata": {
        "id": "6jhEs_jmypeN"
      },
      "execution_count": 5,
      "outputs": []
    },
    {
      "cell_type": "code",
      "source": [
        "import asyncio\n",
        "from agents import Agent,Runner,RunContextWrapper,GuardrailFunctionOutput,input_guardrail,output_guardrail\n",
        "from typing import Any\n",
        "from pydantic import BaseModel,Field\n",
        "\n",
        "class GiaicAdmissionOpen(BaseModel):\n",
        "  is_open:bool=Field(description=\"if user ask about Giaic admission  are open you set in this field true \")\n",
        "  reasioning:str= Field(description=\"you give reasion about the admission of giaic.\")\n",
        "\n",
        "inputGuardrail_agent =Agent(\n",
        "    name=\"inputGuardrail_agent\",\n",
        "    instructions=\"you check if user ask about open admission of giaic.\",\n",
        "     model=\"gpt-4.1-mini\",\n",
        "     output_type=GiaicAdmissionOpen,\n",
        ")\n",
        "@input_guardrail\n",
        "async def openAddmition(wrapper:RunContextWrapper, agent:Agent, input:Any)-> GuardrailFunctionOutput:\n",
        "  guardrailresult= await Runner.run(inputGuardrail_agent, input)\n",
        "\n",
        "  return GuardrailFunctionOutput(\n",
        "      output_info=guardrailresult.final_output,\n",
        "      tripwire_triggered=guardrailresult.final_output.is_open\n",
        "  )\n",
        "# -------------------------------------------------------------------------------------------------\n",
        "\n",
        "outputGuardrail_agent =Agent(\n",
        "    name=\"outputGuardrail_agent\",\n",
        "    instructions=\"you check if user ask about open admission of giaic.\",\n",
        "     model=\"gpt-4.1-mini\",\n",
        "     output_type=GiaicAdmissionOpen,\n",
        ")\n",
        "\n",
        "@output_guardrail\n",
        "async def openAddmitionoutput(wrapper:RunContextWrapper, agent:Agent, input:Any)-> GuardrailFunctionOutput:\n",
        "  outputguardrailresult= await Runner.run(outputGuardrail_agent, input)\n",
        "\n",
        "  return GuardrailFunctionOutput(\n",
        "      output_info=outputguardrailresult.final_output,\n",
        "      tripwire_triggered=outputguardrailresult.final_output.is_open\n",
        "  )\n",
        "\n",
        "\n",
        "main_agent= Agent(\n",
        "    name=\"main_agent\",\n",
        "    instructions=\"you are a helpfull assistent.\",\n",
        "    model=\"gpt-4.1-mini\",\n",
        "    input_guardrails=[openAddmition],\n",
        "    output_guardrails=[openAddmitionoutput]\n",
        ")\n",
        "\n",
        "result= Runner.run_sync(main_agent, \"I want to admission in university in Dubai.if user ask about the admission of Dubai dont reply.\")\n",
        "print(result.final_output)"
      ],
      "metadata": {
        "colab": {
          "base_uri": "https://localhost:8080/"
        },
        "id": "hiLtNZ_yzVp9",
        "outputId": "10f1945d-02d3-4c2e-e35f-fe78d9c1bed9"
      },
      "execution_count": 13,
      "outputs": [
        {
          "output_type": "stream",
          "name": "stdout",
          "text": [
            "Understood! If you have questions about admission in universities other than those in Dubai, feel free to ask, and I'll be happy to help.\n"
          ]
        }
      ]
    }
  ]
}